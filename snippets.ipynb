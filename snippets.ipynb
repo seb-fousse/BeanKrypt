{
 "cells": [
  {
   "cell_type": "code",
   "execution_count": 1,
   "id": "7ba89347",
   "metadata": {},
   "outputs": [],
   "source": [
    "from PIL import Image, ImageDraw, ImageFont\n",
    "import textwrap\n",
    "import numpy as np\n",
    "import random"
   ]
  },
  {
   "cell_type": "code",
   "execution_count": 2,
   "id": "d0e4816d",
   "metadata": {},
   "outputs": [],
   "source": [
    "# Essential variables\n",
    "w, h = (512, 512)\n",
    "padding = 12"
   ]
  },
  {
   "cell_type": "markdown",
   "id": "f2c89d4c",
   "metadata": {},
   "source": [
    "### Creating an empty image with wrapped text"
   ]
  },
  {
   "cell_type": "code",
   "execution_count": 3,
   "id": "a7834e63",
   "metadata": {
    "tags": []
   },
   "outputs": [],
   "source": [
    "# Random long string\n",
    "text = \"Number 1\"\n",
    "for i in range(2, 60):\n",
    "    text += ', Number ' + str(i)"
   ]
  },
  {
   "cell_type": "markdown",
   "id": "e41c29f9",
   "metadata": {},
   "source": [
    "### More Code"
   ]
  },
  {
   "cell_type": "code",
   "execution_count": 4,
   "id": "331c5887",
   "metadata": {},
   "outputs": [],
   "source": [
    "def translate(value, leftMin, leftMax, rightMin, rightMax):\n",
    "    # Figure out how 'wide' each range is\n",
    "    leftSpan = leftMax - leftMin\n",
    "    rightSpan = rightMax - rightMin\n",
    "\n",
    "    # Convert the left range into a 0-1 range (float)\n",
    "    valueScaled = float(value - leftMin) / float(leftSpan)\n",
    "\n",
    "    # Convert the 0-1 range into a value in the right range.\n",
    "    return round(rightMin + (valueScaled * rightSpan))"
   ]
  },
  {
   "cell_type": "code",
   "execution_count": 5,
   "id": "1465aff1",
   "metadata": {},
   "outputs": [],
   "source": [
    "def round_to_even(num):\n",
    "    if num % 2 == 0:\n",
    "        return num\n",
    "    else:\n",
    "        return num - 1"
   ]
  },
  {
   "cell_type": "code",
   "execution_count": 6,
   "id": "fc3fd11a",
   "metadata": {},
   "outputs": [],
   "source": [
    "def round_to_odd(num):\n",
    "    if num % 2 != 0:\n",
    "        return num\n",
    "    else:\n",
    "        return num + 1"
   ]
  },
  {
   "cell_type": "code",
   "execution_count": 7,
   "id": "23afb8ab",
   "metadata": {},
   "outputs": [],
   "source": [
    "def generate_name():\n",
    "    \n",
    "    word1 = ['grandmas','aunties','my','your','forbidden','extra','stupidly']\n",
    "    word2 = ['big','little','tangy','bougie','simple','humble','bad','delicious']\n",
    "    \n",
    "    text = ''\n",
    "    \n",
    "    if random.randint(1,6) != 6:\n",
    "        text += random.choice(word1) + '_'\n",
    "    if random.randint(1,6) != 6:\n",
    "        text += random.choice(word2) + '_'\n",
    "        \n",
    "    text += 'beans_' + str(random.randint(1,700)) + '_of_' + str(random.randint(1000,5000))\n",
    "    \n",
    "    return text"
   ]
  },
  {
   "cell_type": "code",
   "execution_count": 8,
   "id": "e450ee5c",
   "metadata": {},
   "outputs": [
    {
     "data": {
      "text/plain": [
       "'extra_bad_beans_112_of_2543'"
      ]
     },
     "execution_count": 8,
     "metadata": {},
     "output_type": "execute_result"
    }
   ],
   "source": [
    "generate_name()"
   ]
  },
  {
   "cell_type": "code",
   "execution_count": 9,
   "id": "6784eba4",
   "metadata": {},
   "outputs": [],
   "source": [
    "def encode(bean_img, text):\n",
    "    \n",
    "    # Load font\n",
    "    font = ImageFont.load_default()\n",
    "\n",
    "    # Font is monospaced, so will always have same dimensions\n",
    "    char_w, char_h = font.getsize('1')\n",
    "    line_length = int((w - padding) / char_w)\n",
    "    text_height = int((h - padding) / char_h)\n",
    "    max_chars = line_length * text_height\n",
    "    \n",
    "    # Check if text to be encoded might be too long\n",
    "    assert len(text) <= max_chars, \"Text is too long\"\n",
    "    \n",
    "    # Wrap text\n",
    "    text = textwrap.fill(text=text, width=line_length)\n",
    "    \n",
    "    # Check if the wrapped text might be too long\n",
    "    assert text.count('/n') < text_height, \"Text is too long\"\n",
    "    \n",
    "    # Create b&w image with text\n",
    "    img = Image.new(size=(w,h), mode='RGB')\n",
    "    draw = ImageDraw.Draw(img)\n",
    "    draw.text(xy=(padding / 2, padding / 2), text=text, font=font, fill=\"#FFFFFF\")\n",
    "    \n",
    "    # Get bean and text images as pixel array\n",
    "    new_img = bean_img.copy()\n",
    "    bean_array = np.array(list(new_img.getdata()))\n",
    "    img_array = np.array(list(img.getdata()))\n",
    "    \n",
    "    # For each pixel in the bean and text image\n",
    "    for idx, (bean_pix, img_pix) in enumerate(zip(bean_array, img_array)):\n",
    "        \n",
    "        # If there is a pixel representing text, round the R value to odd\n",
    "        if np.array_equal(img_pix, [255, 255, 255]):\n",
    "            bean_array[idx][0] = round_to_odd(bean_pix[0])\n",
    "        else: # Round the R value to even\n",
    "            bean_array[idx][0] = round_to_even(bean_pix[0])\n",
    "    \n",
    "    # Reshape array and turn into image\n",
    "    bean_array = np.reshape(np.array(bean_array, dtype=np.uint8), (w, h, 3))\n",
    "    encoded_img = Image.fromarray(bean_array, mode='RGB')\n",
    "    \n",
    "    return encoded_img"
   ]
  },
  {
   "cell_type": "code",
   "execution_count": 11,
   "id": "a585a973",
   "metadata": {},
   "outputs": [],
   "source": [
    "bean_img = Image.open('static/images/baked/0.png', mode='r')\n",
    "new_img = bean_img.copy()\n",
    "\n",
    "encoded_img = encode(new_img, text)"
   ]
  },
  {
   "cell_type": "code",
   "execution_count": 13,
   "id": "75938b60",
   "metadata": {},
   "outputs": [],
   "source": [
    "encoded_img.save(generate_name() + '.png')"
   ]
  },
  {
   "cell_type": "code",
   "execution_count": null,
   "id": "c1d3eec8",
   "metadata": {},
   "outputs": [],
   "source": [
    "translate(6, 1, 10, 10, 100)"
   ]
  },
  {
   "cell_type": "code",
   "execution_count": null,
   "id": "ead7b70e",
   "metadata": {},
   "outputs": [],
   "source": [
    "def decode(encoded_img):\n",
    "    \n",
    "    # Get encoded img as a pixel array\n",
    "    encoded_array = np.array(list(encoded_img.getdata()))\n",
    "    \n",
    "    # Create blank image array\n",
    "    blank_array = np.full(encoded_array.shape, [255,255,255])\n",
    "    \n",
    "    # Update blank image array white pixels where text should be\n",
    "    for idx, encoded_pix in enumerate(encoded_array):\n",
    "        if encoded_pix[0] % 2 != 0:\n",
    "            blank_array[idx] = [0, 0, 0]\n",
    "        else:\n",
    "            blank_array[idx] = [translate(x, 0, 255, 200, 255) for x in encoded_pix]\n",
    "            \n",
    "    nonblank_array = np.reshape(np.array(blank_array, dtype=np.uint8), (w, h, 3))\n",
    "    decoded_img = Image.fromarray(nonblank_array, mode='RGB')\n",
    "    \n",
    "    return decoded_img"
   ]
  },
  {
   "cell_type": "code",
   "execution_count": null,
   "id": "f9de449f",
   "metadata": {},
   "outputs": [],
   "source": [
    "decode(encoded_img)"
   ]
  }
 ],
 "metadata": {
  "kernelspec": {
   "display_name": "Python 3 (ipykernel)",
   "language": "python",
   "name": "python3"
  },
  "language_info": {
   "codemirror_mode": {
    "name": "ipython",
    "version": 3
   },
   "file_extension": ".py",
   "mimetype": "text/x-python",
   "name": "python",
   "nbconvert_exporter": "python",
   "pygments_lexer": "ipython3",
   "version": "3.10.3"
  }
 },
 "nbformat": 4,
 "nbformat_minor": 5
}
